{
  "nbformat": 4,
  "nbformat_minor": 0,
  "metadata": {
    "colab": {
      "provenance": [],
      "authorship_tag": "ABX9TyNuG3HvXwft5hRYPABAX7bY",
      "include_colab_link": true
    },
    "kernelspec": {
      "name": "python3",
      "display_name": "Python 3"
    },
    "language_info": {
      "name": "python"
    }
  },
  "cells": [
    {
      "cell_type": "markdown",
      "metadata": {
        "id": "view-in-github",
        "colab_type": "text"
      },
      "source": [
        "<a href=\"https://colab.research.google.com/github/krithika2006-hue/simhapath-AI/blob/main/SIMHAPATH_AI.ipynb\" target=\"_parent\"><img src=\"https://colab.research.google.com/assets/colab-badge.svg\" alt=\"Open In Colab\"/></a>"
      ]
    },
    {
      "cell_type": "code",
      "execution_count": null,
      "metadata": {
        "id": "KW6bh8ajGz4t"
      },
      "outputs": [],
      "source": [
        "!pip install gradio -q\n"
      ]
    },
    {
      "cell_type": "code",
      "source": [
        "import gradio as gr\n",
        "import random, datetime\n",
        "\n",
        "# ------------------------------\n",
        "# 🔹 Mock Crowd Prediction\n",
        "# ------------------------------\n",
        "def predict_crowd(location):\n",
        "    density_score = random.randint(1, 100)\n",
        "    if density_score > 80:\n",
        "        status = \"🚨 High Congestion – Action Required\"\n",
        "    elif density_score > 50:\n",
        "        status = \"⚠️ Moderate – Monitor Closely\"\n",
        "    else:\n",
        "        status = \"✅ Low – Safe\"\n",
        "    timestamp = datetime.datetime.now().strftime(\"%Y-%m-%d %H:%M:%S\")\n",
        "    return f\"📍 Location: {location}\\n\\nDensity Score: {density_score}%\\nStatus: {status}\\n⏱️ {timestamp}\"\n",
        "\n",
        "# ------------------------------\n",
        "# 🔹 IoT Environment Monitoring\n",
        "# ------------------------------\n",
        "def environment_data():\n",
        "    temp = round(random.uniform(28, 42), 2)\n",
        "    air_quality = random.randint(50, 200)\n",
        "    heat_index = round(temp + (air_quality / 100), 2)\n",
        "    alert = \"✅ Normal\"\n",
        "    if temp > 38 or air_quality > 150:\n",
        "        alert = \"🚨 Health Risk – Alert Authorities\"\n",
        "    timestamp = datetime.datetime.now().strftime(\"%Y-%m-%d %H:%M:%S\")\n",
        "    return f\"🌡️ Temperature: {temp} °C\\n💨 Air Quality Index: {air_quality}\\n🔥 Heat Index: {heat_index}\\nStatus: {alert}\\n⏱️ {timestamp}\"\n",
        "\n",
        "# ------------------------------\n",
        "# 🔹 Lost & Found AI\n",
        "# ------------------------------\n",
        "def lost_and_found(name):\n",
        "    found = random.choice([True, False])\n",
        "    timestamp = datetime.datetime.now().strftime(\"%Y-%m-%d %H:%M:%S\")\n",
        "    if found:\n",
        "        return f\"👤 Name: {name}\\nStatus: 👨‍👩‍👧 Match Found – Proceed to Info Desk\\n⏱️ {timestamp}\"\n",
        "    else:\n",
        "        return f\"👤 Name: {name}\\nStatus: ❌ Not Found – Keep Searching\\n⏱️ {timestamp}\"\n",
        "\n",
        "# ------------------------------\n",
        "# 🔹 Gradio Interface\n",
        "# ------------------------------\n",
        "with gr.Blocks(theme=gr.themes.Soft(primary_hue=\"blue\", secondary_hue=\"green\")) as demo:\n",
        "    gr.Markdown(\"# 🕉️ SimhaPath AI – Smart Pilgrim Dashboard\")\n",
        "\n",
        "    with gr.Tab(\"Crowd Prediction\"):\n",
        "        loc = gr.Textbox(label=\"Enter Location\", value=\"Main Ghat\")\n",
        "        crowd_btn = gr.Button(\"Check Crowd\")\n",
        "        crowd_output = gr.Textbox(label=\"Result\", lines=6)\n",
        "        crowd_btn.click(predict_crowd, inputs=loc, outputs=crowd_output)\n",
        "\n",
        "    with gr.Tab(\"IoT Environment Monitoring\"):\n",
        "        env_btn = gr.Button(\"Get IoT Data\")\n",
        "        env_output = gr.Textbox(label=\"IoT Status\", lines=6)\n",
        "        env_btn.click(environment_data, outputs=env_output)\n",
        "\n",
        "    with gr.Tab(\"Lost & Found AI\"):\n",
        "        name = gr.Textbox(label=\"Enter Missing Person Name\", value=\"Rahul\")\n",
        "        lf_btn = gr.Button(\"Search Person\")\n",
        "        lf_output = gr.Textbox(label=\"Result\", lines=6)\n",
        "        lf_btn.click(lost_and_found, inputs=name, outputs=lf_output)\n",
        "\n",
        "demo.launch(share=True)\n"
      ],
      "metadata": {
        "colab": {
          "base_uri": "https://localhost:8080/",
          "height": 611
        },
        "id": "Zt1RosRmHM-a",
        "outputId": "fc83f433-c3e8-48f4-8253-25459121cb1d"
      },
      "execution_count": null,
      "outputs": [
        {
          "output_type": "stream",
          "name": "stdout",
          "text": [
            "Colab notebook detected. To show errors in colab notebook, set debug=True in launch()\n",
            "* Running on public URL: https://5f12d7a1bbe15c2563.gradio.live\n",
            "\n",
            "This share link expires in 1 week. For free permanent hosting and GPU upgrades, run `gradio deploy` from the terminal in the working directory to deploy to Hugging Face Spaces (https://huggingface.co/spaces)\n"
          ]
        },
        {
          "output_type": "display_data",
          "data": {
            "text/plain": [
              "<IPython.core.display.HTML object>"
            ],
            "text/html": [
              "<div><iframe src=\"https://5f12d7a1bbe15c2563.gradio.live\" width=\"100%\" height=\"500\" allow=\"autoplay; camera; microphone; clipboard-read; clipboard-write;\" frameborder=\"0\" allowfullscreen></iframe></div>"
            ]
          },
          "metadata": {}
        },
        {
          "output_type": "execute_result",
          "data": {
            "text/plain": []
          },
          "metadata": {},
          "execution_count": 1
        }
      ]
    },
    {
      "cell_type": "code",
      "source": [
        "!pip install huggingface_hub -q\n"
      ],
      "metadata": {
        "id": "d89OfyUnJate"
      },
      "execution_count": null,
      "outputs": []
    },
    {
      "cell_type": "code",
      "source": [],
      "metadata": {
        "id": "f2CHFbQPMUyW"
      },
      "execution_count": null,
      "outputs": []
    },
    {
      "cell_type": "code",
      "metadata": {
        "id": "c3c48d32"
      },
      "source": [
        "with open(\"requirements.txt\", \"w\") as f:\n",
        "    f.write(\"gradio\\n\")\n",
        "    f.write(\"random\\n\")\n",
        "    f.write(\"datetime\\n\")"
      ],
      "execution_count": null,
      "outputs": []
    },
    {
      "cell_type": "code",
      "metadata": {
        "colab": {
          "base_uri": "https://localhost:8080/"
        },
        "id": "c5dbe3fe",
        "outputId": "d902f493-87a3-4f55-d39c-33cd81becfab"
      },
      "source": [
        "%%writefile app.py\n",
        "import gradio as gr\n",
        "import random, datetime\n",
        "\n",
        "# ------------------------------\n",
        "# 🔹 Mock Crowd Prediction\n",
        "# ------------------------------\n",
        "def predict_crowd(location):\n",
        "    density_score = random.randint(1, 100)\n",
        "    if density_score > 80:\n",
        "        status = \"🚨 High Congestion – Action Required\"\n",
        "    elif density_score > 50:\n",
        "        status = \"⚠️ Moderate – Monitor Closely\"\n",
        "    else:\n",
        "        status = \"✅ Low – Safe\"\n",
        "    timestamp = datetime.datetime.now().strftime(\"%Y-%m-%d %H:%M:%S\")\n",
        "    return f\"📍 Location: {location}\\n\\nDensity Score: {density_score}%\\nStatus: {status}\\n⏱️ {timestamp}\"\n",
        "\n",
        "# ------------------------------\n",
        "# 🔹 IoT Environment Monitoring\n",
        "# ------------------------------\n",
        "def environment_data():\n",
        "    temp = round(random.uniform(28, 42), 2)\n",
        "    air_quality = random.randint(50, 200)\n",
        "    heat_index = round(temp + (air_quality / 100), 2)\n",
        "    alert = \"✅ Normal\"\n",
        "    if temp > 38 or air_quality > 150:\n",
        "        alert = \"🚨 Health Risk – Alert Authorities\"\n",
        "    timestamp = datetime.datetime.now().strftime(\"%Y-%m-%d %H:%M:%S\")\n",
        "    return f\"🌡️ Temperature: {temp} °C\\n💨 Air Quality Index: {air_quality}\\n🔥 Heat Index: {heat_index}\\nStatus: {alert}\\n⏱️ {timestamp}\"\n",
        "\n",
        "# ------------------------------\n",
        "# 🔹 Lost & Found AI\n",
        "# ------------------------------\n",
        "def lost_and_found(name):\n",
        "    found = random.choice([True, False])\n",
        "    timestamp = datetime.datetime.now().strftime(\"%Y-%m-%d %H:%M:%S\")\n",
        "    if found:\n",
        "        return f\"👤 Name: {name}\\nStatus: 👨‍👩‍👧 Match Found – Proceed to Info Desk\\n⏱️ {timestamp}\"\n",
        "    else:\n",
        "        return f\"👤 Name: {name}\\nStatus: ❌ Not Found – Keep Searching\\n⏱️ {timestamp}\"\n",
        "\n",
        "# ------------------------------\n",
        "# 🔹 Gradio Interface\n",
        "# ------------------------------\n",
        "with gr.Blocks(theme=gr.themes.Soft(primary_hue=\"blue\", secondary_hue=\"green\")) as demo:\n",
        "    gr.Markdown(\"# 🕉️ SimhaPath AI – Smart Pilgrim Dashboard\")\n",
        "\n",
        "    with gr.Tab(\"Crowd Prediction\"):\n",
        "        loc = gr.Textbox(label=\"Enter Location\", value=\"Main Ghat\")\n",
        "        crowd_btn = gr.Button(\"Check Crowd\")\n",
        "        crowd_output = gr.Textbox(label=\"Result\", lines=6)\n",
        "        crowd_btn.click(predict_crowd, inputs=loc, outputs=crowd_output)\n",
        "\n",
        "    with gr.Tab(\"IoT Environment Monitoring\"):\n",
        "        env_btn = gr.Button(\"Get IoT Data\")\n",
        "        env_output = gr.Textbox(label=\"IoT Status\", lines=6)\n",
        "        env_btn.click(environment_data, outputs=env_output)\n",
        "\n",
        "    with gr.Tab(\"Lost & Found AI\"):\n",
        "        name = gr.Textbox(label=\"Enter Missing Person Name\", value=\"Rahul\")\n",
        "        lf_btn = gr.Button(\"Search Person\")\n",
        "        lf_output = gr.Textbox(label=\"Result\", lines=6)\n",
        "        lf_btn.click(lost_and_found, inputs=name, outputs=lf_output)\n",
        "\n",
        "demo.launch()"
      ],
      "execution_count": null,
      "outputs": [
        {
          "output_type": "stream",
          "name": "stdout",
          "text": [
            "Overwriting app.py\n"
          ]
        }
      ]
    },
    {
      "cell_type": "code",
      "metadata": {
        "colab": {
          "base_uri": "https://localhost:8080/"
        },
        "id": "9f04e386",
        "outputId": "bb916f41-f151-46c4-a6c5-7471eae38278"
      },
      "source": [
        "from huggingface_hub import HfApi\n",
        "from google.colab import userdata\n",
        "\n",
        "hf_token = userdata.get('HF_TOKEN')\n",
        "api = HfApi(token=hf_token)\n",
        "\n",
        "repo_id = \"krxthx2006/SimhaPath-AI\"  # Replace with your actual username\n",
        "\n",
        "try:\n",
        "    api.create_repo(repo_id=repo_id, repo_type=\"space\", space_sdk=\"gradio\")\n",
        "    print(f\"Repository '{repo_id}' created successfully.\")\n",
        "except Exception as e:\n",
        "    print(f\"Error creating repository: {e}\")"
      ],
      "execution_count": null,
      "outputs": [
        {
          "output_type": "stream",
          "name": "stdout",
          "text": [
            "Repository 'krxthx2006/SimhaPath-AI' created successfully.\n"
          ]
        }
      ]
    },
    {
      "cell_type": "code",
      "metadata": {
        "colab": {
          "base_uri": "https://localhost:8080/",
          "height": 104
        },
        "id": "30c07115",
        "outputId": "1e39136c-09c7-4221-eeb1-e6c2b57da172"
      },
      "source": [
        "from huggingface_hub import HfApi\n",
        "from google.colab import userdata\n",
        "\n",
        "# Authenticate with Hugging Face Hub\n",
        "# Add your Hugging Face API token to Colab secrets with the name 'HF_TOKEN'\n",
        "# Learn more: https://huggingface.co/docs/huggingface_hub/authentication#google-colab-and-kaggle-notebooks\n",
        "hf_token = userdata.get('HF_TOKEN')\n",
        "api = HfApi(token=hf_token)\n",
        "\n",
        "\n",
        "repo_id = \"krxthx2006/SimhaPath-AI\" # Replace with your actual username\n",
        "\n",
        "api.upload_file(\n",
        "    path_or_fileobj=\"app.py\",\n",
        "    path_in_repo=\"app.py\",\n",
        "    repo_id=repo_id,\n",
        "    repo_type=\"space\",\n",
        ")\n",
        "\n",
        "api.upload_file(\n",
        "    path_or_fileobj=\"requirements.txt\",\n",
        "    path_in_repo=\"requirements.txt\",\n",
        "    repo_id=repo_id,\n",
        "    repo_type=\"space\",\n",
        ")"
      ],
      "execution_count": null,
      "outputs": [
        {
          "output_type": "execute_result",
          "data": {
            "text/plain": [
              "CommitInfo(commit_url='https://huggingface.co/spaces/krxthx2006/SimhaPath-AI/commit/e275d067d7622d65c0d88bce437b786b9ce02af1', commit_message='Upload requirements.txt with huggingface_hub', commit_description='', oid='e275d067d7622d65c0d88bce437b786b9ce02af1', pr_url=None, repo_url=RepoUrl('https://huggingface.co/spaces/krxthx2006/SimhaPath-AI', endpoint='https://huggingface.co', repo_type='space', repo_id='krxthx2006/SimhaPath-AI'), pr_revision=None, pr_num=None)"
            ],
            "application/vnd.google.colaboratory.intrinsic+json": {
              "type": "string"
            }
          },
          "metadata": {},
          "execution_count": 20
        }
      ]
    }
  ]
}